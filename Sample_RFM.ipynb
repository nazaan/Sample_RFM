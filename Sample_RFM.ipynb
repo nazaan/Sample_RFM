{
 "cells": [
  {
   "cell_type": "code",
   "execution_count": 12,
   "id": "784585d0-9221-4fba-bc6e-f5887f5d1031",
   "metadata": {},
   "outputs": [],
   "source": [
    "import pandas as pd\n",
    "import numpy as np\n",
    "import matplotlib.pyplot as plt "
   ]
  },
  {
   "cell_type": "code",
   "execution_count": 14,
   "id": "44fe5dd6-13d4-4a9d-85d6-18ef90b00e01",
   "metadata": {},
   "outputs": [],
   "source": [
    "# Define the sample dataset\n",
    "data = {\n",
    "    'customer_id': [1, 1, 1, 2, 2, 3, 3, 4, 4, 5, 5],\n",
    "    'transaction_date': ['2022-01-01', '2022-02-15', '2022-04-20', '2022-01-05', '2022-03-10', '2022-02-01', '2022-05-15', '2022-01-10', '2022-04-01', '2022-03-20', '2022-06-01'],\n",
    "    'purchase_amount': [100.00, 50.00, 200.00, 150.00, 75.00, 250.00, 100.00, 50.00, 25.00, 300.00, 200.00],\n",
    "    'transaction_id': [1, 2, 3, 4, 5, 6, 7, 8, 9, 10, 11]\n",
    "}\n",
    "\n",
    "# Create a Pandas DataFrame\n",
    "df = pd.DataFrame(data)"
   ]
  },
  {
   "cell_type": "code",
   "execution_count": 15,
   "id": "c730b0d7-eac4-4d09-8fa3-d5529a157924",
   "metadata": {},
   "outputs": [],
   "source": [
    "# Load the data from the CSV file\n",
    "#df = pd.read_csv('customer_data.csv')\n",
    "\n",
    "# Convert the transaction date column to datetime format\n",
    "df['transaction_date'] = pd.to_datetime(df['transaction_date'])"
   ]
  },
  {
   "cell_type": "code",
   "execution_count": 16,
   "id": "716fe2ec-d8f9-4f5c-9fb7-68d260f4bf2a",
   "metadata": {},
   "outputs": [
    {
     "data": {
      "text/html": [
       "<div>\n",
       "<style scoped>\n",
       "    .dataframe tbody tr th:only-of-type {\n",
       "        vertical-align: middle;\n",
       "    }\n",
       "\n",
       "    .dataframe tbody tr th {\n",
       "        vertical-align: top;\n",
       "    }\n",
       "\n",
       "    .dataframe thead th {\n",
       "        text-align: right;\n",
       "    }\n",
       "</style>\n",
       "<table border=\"1\" class=\"dataframe\">\n",
       "  <thead>\n",
       "    <tr style=\"text-align: right;\">\n",
       "      <th></th>\n",
       "      <th>customer_id</th>\n",
       "      <th>transaction_date</th>\n",
       "      <th>purchase_amount</th>\n",
       "      <th>transaction_id</th>\n",
       "    </tr>\n",
       "  </thead>\n",
       "  <tbody>\n",
       "    <tr>\n",
       "      <th>0</th>\n",
       "      <td>1</td>\n",
       "      <td>2022-01-01</td>\n",
       "      <td>100.0</td>\n",
       "      <td>1</td>\n",
       "    </tr>\n",
       "    <tr>\n",
       "      <th>1</th>\n",
       "      <td>1</td>\n",
       "      <td>2022-02-15</td>\n",
       "      <td>50.0</td>\n",
       "      <td>2</td>\n",
       "    </tr>\n",
       "    <tr>\n",
       "      <th>2</th>\n",
       "      <td>1</td>\n",
       "      <td>2022-04-20</td>\n",
       "      <td>200.0</td>\n",
       "      <td>3</td>\n",
       "    </tr>\n",
       "    <tr>\n",
       "      <th>3</th>\n",
       "      <td>2</td>\n",
       "      <td>2022-01-05</td>\n",
       "      <td>150.0</td>\n",
       "      <td>4</td>\n",
       "    </tr>\n",
       "    <tr>\n",
       "      <th>4</th>\n",
       "      <td>2</td>\n",
       "      <td>2022-03-10</td>\n",
       "      <td>75.0</td>\n",
       "      <td>5</td>\n",
       "    </tr>\n",
       "  </tbody>\n",
       "</table>\n",
       "</div>"
      ],
      "text/plain": [
       "   customer_id transaction_date  purchase_amount  transaction_id\n",
       "0            1       2022-01-01            100.0               1\n",
       "1            1       2022-02-15             50.0               2\n",
       "2            1       2022-04-20            200.0               3\n",
       "3            2       2022-01-05            150.0               4\n",
       "4            2       2022-03-10             75.0               5"
      ]
     },
     "execution_count": 16,
     "metadata": {},
     "output_type": "execute_result"
    }
   ],
   "source": [
    "df.head()"
   ]
  },
  {
   "cell_type": "code",
   "execution_count": 17,
   "id": "fa4b5ff6-e931-457f-a2e5-7e0a63a7231e",
   "metadata": {},
   "outputs": [],
   "source": [
    "# Calculate recency by finding the most recent transaction date for each customer\n",
    "df_recency = df.groupby('customer_id')['transaction_date'].max().reset_index()\n",
    "df_recency = df_recency.rename(columns={'transaction_date': 'recency'})"
   ]
  },
  {
   "cell_type": "code",
   "execution_count": 18,
   "id": "f1ff233c-f049-481e-b775-02d8a6e00212",
   "metadata": {},
   "outputs": [],
   "source": [
    "# Calculate recency score using qcut\n",
    "recency_scores = pd.qcut(df_recency['recency'], q=5, labels=False, duplicates='drop')\n"
   ]
  },
  {
   "cell_type": "code",
   "execution_count": 19,
   "id": "7ee02128-8707-4e9c-9358-82d1242c5369",
   "metadata": {},
   "outputs": [],
   "source": [
    "# Calculate frequency by counting the number of transactions for each customer\n",
    "df_frequency = df.groupby('customer_id').agg({'transaction_id': 'nunique'})\n",
    "df_frequency = df_frequency.rename(columns={'transaction_id': 'frequency'})\n"
   ]
  },
  {
   "cell_type": "code",
   "execution_count": 20,
   "id": "883186ca-5ba5-449d-81e6-81d1d9ef655e",
   "metadata": {},
   "outputs": [],
   "source": [
    "# Calculate frequency score using qcut with duplicates='drop'\n",
    "frequency_scores = pd.qcut(df_frequency['frequency'], q=5, labels=False, duplicates='drop')\n"
   ]
  },
  {
   "cell_type": "code",
   "execution_count": 21,
   "id": "a33e7dec-3de1-47fc-9396-8880524825be",
   "metadata": {},
   "outputs": [],
   "source": [
    "# Calculate monetary value by summing the purchase amounts for each customer\n",
    "df_monetary = df.groupby('customer_id')['purchase_amount'].sum().reset_index()\n",
    "df_monetary = df_monetary.rename(columns={'purchase_amount': 'monetary'})\n"
   ]
  },
  {
   "cell_type": "code",
   "execution_count": 22,
   "id": "ad51435c-6661-4cfc-90f1-7304075109fa",
   "metadata": {},
   "outputs": [],
   "source": [
    "# Calculate monetary score using qcut\n",
    "monetary_scores = pd.qcut(df_monetary['monetary'], q=5, labels=False, duplicates='drop')\n"
   ]
  },
  {
   "cell_type": "code",
   "execution_count": 23,
   "id": "12eea9b8-3e7b-4171-8832-56ee0719d2f7",
   "metadata": {},
   "outputs": [],
   "source": [
    "# Combine the recency, frequency, and monetary scores into a single DataFrame\n",
    "rfm_scores = pd.DataFrame({\n",
    "    'customer_id': df_recency['customer_id'],\n",
    "    'recency_score': recency_scores,\n",
    "    'frequency_score': frequency_scores,\n",
    "    'monetary_score': monetary_scores\n",
    "})\n"
   ]
  },
  {
   "cell_type": "code",
   "execution_count": 24,
   "id": "7714b88e-96eb-40cb-9021-3122da5614c6",
   "metadata": {},
   "outputs": [],
   "source": [
    "# Calculate the overall RFM score by summing the recency, frequency, and monetary scores\n",
    "rfm_scores['RFM_Score'] = rfm_scores['recency_score'] + rfm_scores['frequency_score'] + rfm_scores['monetary_score']\n"
   ]
  },
  {
   "cell_type": "code",
   "execution_count": 28,
   "id": "1960ef66-85d7-4748-93c3-ca28d10df2ba",
   "metadata": {},
   "outputs": [],
   "source": [
    "# Segment customers based on their RFM scores\n",
    "rfm_df = rfm_scores[['customer_id', 'RFM_Score']].copy()\n",
    "rfm_df['Customer_segment'] = np.where(rfm_df['RFM_Score'] > 4.5, 'Top Customers',\n",
    "                                      (np.where(rfm_df['RFM_Score'] > 4, 'High value Customer',\n",
    "                                                (np.where(rfm_df['RFM_Score'] > 3, 'Medium Value Customer',\n",
    "                                                          (np.where(rfm_df['RFM_Score'] > 1.6, 'Low Value Customers', 'Lost Customers')))))))"
   ]
  },
  {
   "cell_type": "code",
   "execution_count": 30,
   "id": "32af8c23-7f45-4b6d-bc96-eff75954cf66",
   "metadata": {},
   "outputs": [
    {
     "name": "stdout",
     "output_type": "stream",
     "text": [
      "   customer_id  RFM_Score     Customer_segment\n",
      "0          1.0        NaN       Lost Customers\n",
      "1          2.0        2.0  Low Value Customers\n",
      "2          3.0        5.0        Top Customers\n",
      "3          4.0        1.0       Lost Customers\n",
      "4          5.0        8.0        Top Customers\n",
      "5          NaN        NaN       Lost Customers\n"
     ]
    }
   ],
   "source": [
    "print(rfm_df)"
   ]
  },
  {
   "cell_type": "code",
   "execution_count": 29,
   "id": "d93a6110-d67e-4c88-9a6e-02670a7a5317",
   "metadata": {},
   "outputs": [
    {
     "data": {
      "image/png": "[encoded data removed]",
      "text/plain": [
       "<Figure size 1000x600 with 1 Axes>"
      ]
     },
     "metadata": {},
     "output_type": "display_data"
    }
   ],
   "source": [
    "# Create a bar chart to visualize the customer segments\n",
    "plt.figure(figsize=(10, 6))\n",
    "rfm_df['Customer_segment'].value_counts().plot(kind='bar')\n",
    "plt.title('Customer Segments')\n",
    "plt.xlabel('Segment')\n",
    "plt.ylabel('Count')\n",
    "plt.show()"
   ]
  },
  {
   "cell_type": "code",
   "execution_count": 32,
   "id": "531f7a6c-2501-457b-84a8-b8d48128bbfe",
   "metadata": {},
   "outputs": [
    {
     "data": {
      "image/png": "[encoded data removed]",
      "text/plain": [
       "<Figure size 640x480 with 1 Axes>"
      ]
     },
     "metadata": {},
     "output_type": "display_data"
    }
   ],
   "source": [
    "# Visualize the customer segments\n",
    "plt.pie(rfm_df.Customer_segment.value_counts(), labels=rfm_df.Customer_segment.value_counts().index, autopct='%0.00f%%')\n",
    "plt.show()"
   ]
  },
  {
   "cell_type": "code",
   "execution_count": null,
   "id": "22820e19-a181-4b56-931c-8f6640839b34",
   "metadata": {},
   "outputs": [],
   "source": []
  },
  {
   "cell_type": "code",
   "execution_count": null,
   "id": "4fe8f7ed-4e30-44d5-aa6f-648e015f1617",
   "metadata": {},
   "outputs": [],
   "source": []
  }
 ],
 "metadata": {
  "kernelspec": {
   "display_name": "Python 3 (ipykernel)",
   "language": "python",
   "name": "python3"
  },
  "language_info": {
   "codemirror_mode": {
    "name": "ipython",
    "version": 3
   },
   "file_extension": ".py",
   "mimetype": "text/x-python",
   "name": "python",
   "nbconvert_exporter": "python",
   "pygments_lexer": "ipython3",
   "version": "3.11.7"
  }
 },
 "nbformat": 4,
 "nbformat_minor": 5
}
